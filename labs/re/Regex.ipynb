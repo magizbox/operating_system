{
 "cells": [
  {
   "cell_type": "code",
   "execution_count": 3,
   "metadata": {
    "collapsed": false
   },
   "outputs": [
    {
     "name": "stdout",
     "output_type": "stream",
     "text": [
      "<_sre.SRE_Match object at 0x0000000003EEAC60>\n"
     ]
    }
   ],
   "source": [
    "import re"
   ]
  },
  {
   "cell_type": "code",
   "execution_count": 4,
   "metadata": {
    "collapsed": false
   },
   "outputs": [
    {
     "name": "stdout",
     "output_type": "stream",
     "text": [
      "<_sre.SRE_Match object at 0x0000000003EEAD30>\n"
     ]
    }
   ],
   "source": [
    "x = re.search(\"cat\", \"A cat and a rat can't be friends.\")\n",
    "print x"
   ]
  },
  {
   "cell_type": "code",
   "execution_count": 5,
   "metadata": {
    "collapsed": false
   },
   "outputs": [
    {
     "name": "stdout",
     "output_type": "stream",
     "text": [
      "None\n"
     ]
    }
   ],
   "source": [
    "x = re.search(\"cow\", \"A cat and a rat can't be friends.\")\n",
    "print x"
   ]
  },
  {
   "cell_type": "code",
   "execution_count": 6,
   "metadata": {
    "collapsed": false
   },
   "outputs": [
    {
     "data": {
      "text/plain": [
       "<_sre.SRE_Match at 0x3eeae68>"
      ]
     },
     "execution_count": 6,
     "metadata": {},
     "output_type": "execute_result"
    }
   ],
   "source": [
    "re.search(\"cat\", \"A cat and a rat can't be friends.\")"
   ]
  },
  {
   "cell_type": "markdown",
   "metadata": {},
   "source": [
    "# Any Character"
   ]
  },
  {
   "cell_type": "code",
   "execution_count": 13,
   "metadata": {
    "collapsed": true
   },
   "outputs": [],
   "source": [
    "pattern = r\".at\""
   ]
  },
  {
   "cell_type": "markdown",
   "metadata": {},
   "source": [
    "The syntax of regular expressions supplies a metacharacter \".\", which is used like a placeholder for \"any character\". The regular expression of our example can be written like this: \n",
    "r\" .at \" "
   ]
  },
  {
   "cell_type": "markdown",
   "metadata": {},
   "source": [
    "This RE matches three letter words, isolated by blanks, which end in \"at\". Now we get words like \"rat\", \"cat\", \"bat\", \"eat\", \"sat\" and many others. "
   ]
  },
  {
   "cell_type": "code",
   "execution_count": 29,
   "metadata": {
    "collapsed": false
   },
   "outputs": [
    {
     "name": "stdout",
     "output_type": "stream",
     "text": [
      ".at matches rat\n",
      ".at matches cat\n",
      ".at matches bat\n",
      ".at matches eat\n",
      ".at matches sat\n"
     ]
    }
   ],
   "source": [
    "pattern = r\".at\"\n",
    "for word in [\"rat\", \"cat\", \"bat\", \"eat\", \"sat\"]:\n",
    "    if re.search(pattern, word):\n",
    "        print pattern, \"matches\", word\n",
    "    else:\n",
    "        print pattern, \"doesn't match\", word"
   ]
  },
  {
   "cell_type": "markdown",
   "metadata": {},
   "source": [
    "But what, if the text contains \"words\" like \"@at\" or \"3at\"? These words match as well and this means that we have created over matching again."
   ]
  },
  {
   "cell_type": "code",
   "execution_count": 27,
   "metadata": {
    "collapsed": false
   },
   "outputs": [
    {
     "name": "stdout",
     "output_type": "stream",
     "text": [
      "[-a-z] matches @at\n",
      "[-a-z] matches 3at\n"
     ]
    }
   ],
   "source": [
    "for word in [\"@at\", \"3at\"]:\n",
    "    if re.search(pattern, word):\n",
    "        print pattern, \"matches\", word\n",
    "    else:\n",
    "        print pattern, \"doesn't match\", word"
   ]
  },
  {
   "cell_type": "markdown",
   "metadata": {
    "collapsed": true
   },
   "source": [
    "# Character Classes"
   ]
  },
  {
   "cell_type": "markdown",
   "metadata": {},
   "source": [
    "Square brackets, \"[\" and \"]\", are used to include a character class. [xyz] means e.g. either an \"x\", an \"y\" or a \"z\". \n",
    "Let's look at a more practical example:"
   ]
  },
  {
   "cell_type": "code",
   "execution_count": 17,
   "metadata": {
    "collapsed": true
   },
   "outputs": [],
   "source": [
    "pattern = r\"M[ae][iy]er\""
   ]
  },
  {
   "cell_type": "markdown",
   "metadata": {},
   "source": [
    "This is a regular expression, which matches a surname which is quite common in German. A name with the same pronunciation and four different spellings: Maier, Mayer, Meier, Meyer "
   ]
  },
  {
   "cell_type": "code",
   "execution_count": 30,
   "metadata": {
    "collapsed": false
   },
   "outputs": [
    {
     "name": "stdout",
     "output_type": "stream",
     "text": [
      "M[ae][iy]er matches Maier\n",
      "M[ae][iy]er matches Mayer\n",
      "M[ae][iy]er matches Meier\n",
      "M[ae][iy]er matches Meyer\n"
     ]
    }
   ],
   "source": [
    "pattern = r\"M[ae][iy]er\"\n",
    "for word in [\"Maier\", \"Mayer\", \"Meier\", \"Meyer\"]:\n",
    "    if re.search(pattern, word):\n",
    "        print pattern, \"matches\", word\n",
    "    else:\n",
    "        print pattern, \"doesn't match\", word"
   ]
  },
  {
   "cell_type": "markdown",
   "metadata": {},
   "source": [
    "A finite state automata to recognize this expression can be build like this: \n",
    "\n",
    "![](http://www.python-course.eu/images/finite_state_machine_mayer.png)\n",
    "\n",
    "The graph of the finite state machine (FSM) is simplified to keep the design easy. There should be an arrow in the start node pointing back on its own, i.e. if a character other than an upper case \"M\" has been processed, the machine should stay in the start condition. Furthermore, there should be an arrow pointing back from all nodes except the final nodes (the green ones) to the start node, if not the expected letter has been processed. E.g. if the machine is in state Ma, after having processed a \"M\" and an \"a\", the machine has to go back to state \"Start\", if any character except \"i\" or \"y\" can be read. Those who have problems with this FSM, shouldn't be bothered, because it is not necessary to understand it for the things to come. "
   ]
  },
  {
   "cell_type": "markdown",
   "metadata": {},
   "source": [
    "Instead of a choice between two characters, we often need a choice between larger character classes. We might need e.g. a class of letters between \"a\" and \"e\" or between \"0\" and \"5\"\n",
    "To manage such such character classes the syntax of regular expressions supplies a metacharacter \"-\". [a-e] a simplified writing for [abcde] or [0-5] denotes [012345]. "
   ]
  },
  {
   "cell_type": "markdown",
   "metadata": {},
   "source": [
    "The advantage is obvious and even more impressive, if we have to coint expressions like \"any uppercase letter\" into regular expressions. So instead of [ABCDEFGHIJKLMNOPQRSTUVWXYZ] we can write [A-Z]. If this is not convincing: Write an expression for the character class \"any lower case or uppercase letter\" [A-Za-z]"
   ]
  },
  {
   "cell_type": "markdown",
   "metadata": {},
   "source": [
    "There is something more about the dash, we used to mark the begin and the end of a character class. The dash has only a special meaning if it is used within square brackets and in this case only if it isn't positioned directly after an opening or immediately in front of a closing bracket. \n",
    "So the expression [-az is only the choice between the three characters \"-\", \"a\" and \"z\", but no other characters. The same is true for [az-. "
   ]
  },
  {
   "cell_type": "markdown",
   "metadata": {},
   "source": [
    "**Exercise:**\n",
    "What character class is described by [-a-z]? \n",
    "\n",
    "**Answer**\n",
    "The character \"-\" and all the characters \"a\", \"b\", \"c\" all the way up to \"z\". "
   ]
  },
  {
   "cell_type": "code",
   "execution_count": 24,
   "metadata": {
    "collapsed": false
   },
   "outputs": [
    {
     "name": "stdout",
     "output_type": "stream",
     "text": [
      "[-a-z] matches -\n",
      "[-a-z] matches a\n",
      "[-a-z] matches b\n",
      "[-a-z] matches c\n",
      "[-a-z] matches d\n",
      "[-a-z] matches w\n",
      "[-a-z] matches x\n",
      "[-a-z] matches y\n",
      "[-a-z] matches z\n",
      "[-a-z] doesn't match 1\n"
     ]
    }
   ],
   "source": [
    "pattern = \"[-a-z]\"\n",
    "for word in [\"-\", \"a\", \"b\", \"c\", \"d\", \"w\", \"x\", \"y\", \"z\", \"1\"]:\n",
    "    if re.search(pattern, word):\n",
    "        print pattern, \"matches\", word\n",
    "    else:\n",
    "        print pattern, \"doesn't match\", word"
   ]
  },
  {
   "cell_type": "markdown",
   "metadata": {},
   "source": [
    "The only other special character inside square brackets (character class choice) is the caret \"^\". If it is used directly after an opening square bracket, it negates the choice. [^0-9] denotes the choice \"any character but a digit\". The position of the caret within the square brackets is crucial. If it is not positioned as the first character following the opening square bracket, it has no special meaning. \n",
    "[^abc] means anything but an \"a\", \"b\" or \"c\" \n",
    "[a^bc] means an \"a\", \"b\", \"c\" or a \"^\""
   ]
  },
  {
   "cell_type": "code",
   "execution_count": 36,
   "metadata": {
    "collapsed": false
   },
   "outputs": [
    {
     "name": "stdout",
     "output_type": "stream",
     "text": [
      "[^0-9] matches a\n",
      "[^0-9] matches b\n",
      "[^0-9] matches c\n",
      "[^0-9] matches @\n",
      "[^0-9] matches !\n",
      "[^0-9] matches ^\n",
      "[^0-9] doesn't match 0\n",
      "[^0-9] doesn't match 1\n",
      "[^0-9] doesn't match 9\n"
     ]
    }
   ],
   "source": [
    "# negates the choice\n",
    "pattern = \"[^0-9]\"\n",
    "for word in [\"a\", \"b\", \"c\", \"@\", \"!\", \"^\", \"0\", \"1\", \"9\"]:\n",
    "    if re.search(pattern, word):\n",
    "        print pattern, \"matches\", word\n",
    "    else:\n",
    "        print pattern, \"doesn't match\", word"
   ]
  },
  {
   "cell_type": "code",
   "execution_count": 38,
   "metadata": {
    "collapsed": false
   },
   "outputs": [
    {
     "name": "stdout",
     "output_type": "stream",
     "text": [
      "[^abc] doesn't match a\n",
      "[^abc] doesn't match b\n",
      "[^abc] doesn't match c\n",
      "[^abc] matches ^\n",
      "[a^bc] matches a\n",
      "[a^bc] matches b\n",
      "[a^bc] matches c\n",
      "[a^bc] matches ^\n"
     ]
    }
   ],
   "source": [
    "# if ^ is used directly after an opening square bracket\n",
    "pattern = \"[^abc]\"\n",
    "for word in [\"a\", \"b\", \"c\", \"^\"]:\n",
    "    if re.search(pattern, word):\n",
    "        print pattern, \"matches\", word\n",
    "    else:\n",
    "        print pattern, \"doesn't match\", word\n",
    "# ^ is just a normal character       \n",
    "pattern = \"[a^bc]\"\n",
    "for word in [\"a\", \"b\", \"c\", \"^\"]:\n",
    "    if re.search(pattern, word):\n",
    "        print pattern, \"matches\", word\n",
    "    else:\n",
    "        print pattern, \"doesn't match\", word"
   ]
  }
 ],
 "metadata": {
  "kernelspec": {
   "display_name": "Python 2",
   "language": "python",
   "name": "python2"
  },
  "language_info": {
   "codemirror_mode": {
    "name": "ipython",
    "version": 2
   },
   "file_extension": ".py",
   "mimetype": "text/x-python",
   "name": "python",
   "nbconvert_exporter": "python",
   "pygments_lexer": "ipython2",
   "version": "2.7.13"
  }
 },
 "nbformat": 4,
 "nbformat_minor": 2
}
